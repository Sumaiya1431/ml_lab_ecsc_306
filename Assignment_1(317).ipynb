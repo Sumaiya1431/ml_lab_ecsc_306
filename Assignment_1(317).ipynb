{
 "cells": [
  {
   "cell_type": "code",
   "execution_count": 2,
   "metadata": {
    "collapsed": true
   },
   "outputs": [],
   "source": [
    "import tensorflow as tf\n",
    "x = tf.constant([1.0, 2.0, 3.0, 4.0, 5.0, 6.0], name='x')\n",
    "y = tf.constant([2.0, 4.0, 6.0, 8.0, 10.0, 12.0], name='y')\n"
   ]
  },
  {
   "cell_type": "code",
   "execution_count": 3,
   "metadata": {},
   "outputs": [
    {
     "data": {
      "text/plain": [
       "3.5"
      ]
     },
     "execution_count": 3,
     "metadata": {},
     "output_type": "execute_result"
    }
   ],
   "source": [
    "c=tf.reduce_mean(x)\n",
    "\n",
    "#c = tf.multiply(a, b)\n",
    "sesss=tf.Session()\n",
    "sesss.run(c)\n"
   ]
  },
  {
   "cell_type": "code",
   "execution_count": 4,
   "metadata": {},
   "outputs": [
    {
     "data": {
      "text/plain": [
       "7.0"
      ]
     },
     "execution_count": 4,
     "metadata": {},
     "output_type": "execute_result"
    }
   ],
   "source": [
    "d=tf.reduce_mean(y)\n",
    "sesss.run(d)"
   ]
  },
  {
   "cell_type": "code",
   "execution_count": 5,
   "metadata": {},
   "outputs": [
    {
     "data": {
      "text/plain": [
       "17.5"
      ]
     },
     "execution_count": 5,
     "metadata": {},
     "output_type": "execute_result"
    }
   ],
   "source": [
    "e=tf.subtract(x,c)\n",
    "#sesss.run(e)\n",
    "f=tf.pow(e,2)\n",
    "#sesss.run(f)\n",
    "var=tf.reduce_sum(f)\n",
    "sesss.run(var)\n"
   ]
  },
  {
   "cell_type": "code",
   "execution_count": 6,
   "metadata": {},
   "outputs": [
    {
     "data": {
      "text/plain": [
       "35.0"
      ]
     },
     "execution_count": 6,
     "metadata": {},
     "output_type": "execute_result"
    }
   ],
   "source": [
    "g=tf.subtract(y,d)\n",
    "#sesss.run(g)\n",
    "h=tf.multiply(e,g)\n",
    "#sesss.run(h)\n",
    "covar=tf.reduce_sum(h)\n",
    "sesss.run(covar)"
   ]
  },
  {
   "cell_type": "code",
   "execution_count": 7,
   "metadata": {},
   "outputs": [
    {
     "data": {
      "text/plain": [
       "2.0"
      ]
     },
     "execution_count": 7,
     "metadata": {},
     "output_type": "execute_result"
    }
   ],
   "source": [
    "cvalue=tf.divide(covar,var)\n",
    "sesss.run(cvalue)"
   ]
  },
  {
   "cell_type": "code",
   "execution_count": 8,
   "metadata": {},
   "outputs": [
    {
     "data": {
      "text/plain": [
       "0.0"
      ]
     },
     "execution_count": 8,
     "metadata": {},
     "output_type": "execute_result"
    }
   ],
   "source": [
    "i=tf.multiply(cvalue,c)\n",
    "#sesss.run(i)\n",
    "mvalue=tf.subtract(d,i)\n",
    "sesss.run(mvalue)"
   ]
  },
  {
   "cell_type": "code",
   "execution_count": 9,
   "metadata": {},
   "outputs": [
    {
     "data": {
      "text/plain": [
       "0.0"
      ]
     },
     "execution_count": 9,
     "metadata": {},
     "output_type": "execute_result"
    }
   ],
   "source": [
    "i=tf.multiply(cvalue,c)\n",
    "#sesss.run(i)\n",
    "mvalue=tf.subtract(d,i)\n",
    "sesss.run(mvalue)"
   ]
  },
  {
   "cell_type": "code",
   "execution_count": 10,
   "metadata": {},
   "outputs": [
    {
     "name": "stdout",
     "output_type": "stream",
     "text": [
      "[ 1.  2.  3.  4.  5.  6.]\n"
     ]
    }
   ],
   "source": [
    "with tf.Session() as sess:\n",
    "    writer = tf.summary.FileWriter(\"/tmp/tboard/b2\", sess.graph)\n",
    "    print(sess.run(x))\n",
    "    writer.close()"
   ]
  },
  {
   "cell_type": "code",
   "execution_count": 11,
   "metadata": {},
   "outputs": [
    {
     "data": {
      "image/png": "[encoded data removed]",
      "text/plain": [
       "<matplotlib.figure.Figure at 0x7f1d91c9cdd8>"
      ]
     },
     "metadata": {},
     "output_type": "display_data"
    }
   ],
   "source": [
    "import matplotlib.pyplot as plt\n",
    "import numpy\n",
    "x=numpy.asarray([1.0, 2.0, 3.0, 4.0, 5.0, 6.0])\n",
    "y = numpy.asarray([2.0, 4.0, 6.0, 8.0, 10.0, 12.0])\n",
    "plt.plot(x,y,'ro', label='Samples data')\n",
    "plt.show()"
   ]
  },
  {
   "cell_type": "code",
   "execution_count": null,
   "metadata": {},
   "outputs": [],
   "source": []
  },
  {
   "cell_type": "code",
   "execution_count": 12,
   "metadata": {},
   "outputs": [
    {
     "name": "stdout",
     "output_type": "stream",
     "text": [
      "Epoch: 0050 cost= 1.233740568 W= 2.24676 b= 0.158897\n",
      "Epoch: 0100 cost= 1.050302029 W= 2.19392 b= 0.450578\n",
      "Epoch: 0150 cost= 0.903309584 W= 2.1078 b= 0.708395\n",
      "Epoch: 0200 cost= 0.776936054 W= 2.0274 b= 0.947316\n",
      "Epoch: 0250 cost= 0.668242395 W= 1.95283 b= 1.16889\n",
      "Epoch: 0300 cost= 0.574755549 W= 1.88367 b= 1.37439\n",
      "Epoch: 0350 cost= 0.494347423 W= 1.81953 b= 1.56496\n",
      "Epoch: 0400 cost= 0.425188154 W= 1.76004 b= 1.74171\n",
      "Epoch: 0450 cost= 0.365704268 W= 1.70487 b= 1.90563\n",
      "Epoch: 0500 cost= 0.314542174 W= 1.65371 b= 2.05765\n",
      "Epoch: 0550 cost= 0.270537496 W= 1.60626 b= 2.19863\n",
      "Epoch: 0600 cost= 0.232688636 W= 1.56226 b= 2.32938\n",
      "Epoch: 0650 cost= 0.200135842 W= 1.52145 b= 2.45064\n",
      "Epoch: 0700 cost= 0.172137141 W= 1.4836 b= 2.5631\n",
      "Epoch: 0750 cost= 0.148055062 W= 1.4485 b= 2.6674\n",
      "Epoch: 0800 cost= 0.127342165 W= 1.41594 b= 2.76412\n",
      "Epoch: 0850 cost= 0.109527037 W= 1.38575 b= 2.85383\n",
      "Epoch: 0900 cost= 0.094204023 W= 1.35775 b= 2.93702\n",
      "Epoch: 0950 cost= 0.081024855 W= 1.33178 b= 3.01418\n",
      "Epoch: 1000 cost= 0.069689363 W= 1.3077 b= 3.08573\n",
      "Optimization Finished!\n",
      "Training cost= 0.0696894 W= 1.3077 b= 3.08573 \n",
      "\n"
     ]
    },
    {
     "data": {
      "image/png": "[encoded data removed]",
      "text/plain": [
       "<matplotlib.figure.Figure at 0x7f1d900464a8>"
      ]
     },
     "metadata": {},
     "output_type": "display_data"
    }
   ],
   "source": [
    "\n",
    "import numpy\n",
    "import matplotlib.pyplot as plt\n",
    "rng = numpy.random\n",
    "\n",
    "learning_rate = 0.01\n",
    "training_epochs = 1000\n",
    "display_step = 50\n",
    "\n",
    "train_X = numpy.asarray([1.,2.,3.,4.])\n",
    "train_Y = numpy.asarray([5.,6.,7.,8.])\n",
    "n_samples = train_X.shape[0]\n",
    "\n",
    "X = tf.placeholder(\"float\")\n",
    "Y = tf.placeholder(\"float\")\n",
    "\n",
    "W = tf.Variable(rng.randn(), name=\"weight\")\n",
    "b = tf.Variable(rng.randn(), name=\"bias\")\n",
    "\n",
    "pred = tf.add(tf.multiply(X, W), b)\n",
    "\n",
    "cost = tf.reduce_sum(tf.pow(pred-Y, 2))/(2*n_samples)\n",
    "\n",
    "optimizer = tf.train.GradientDescentOptimizer(learning_rate).minimize(cost)\n",
    "\n",
    "init = tf.global_variables_initializer()\n",
    "\n",
    "with tf.Session() as sess:\n",
    "    sess.run(init)\n",
    "\n",
    "    for epoch in range(training_epochs):\n",
    "        for (x, y) in zip(train_X, train_Y):\n",
    "            sess.run(optimizer, feed_dict={X: x, Y: y})\n",
    "        if (epoch+1) % display_step == 0:\n",
    "            c = sess.run(cost, feed_dict={X: train_X, Y:train_Y})\n",
    "            print(\"Epoch:\", '%04d' % (epoch+1), \"cost=\", \"{:.9f}\".format(c), \"W=\", sess.run(W), \"b=\", sess.run(b))\n",
    "    print(\"Optimization Finished!\")\n",
    "    training_cost = sess.run(cost, feed_dict={X: train_X, Y: train_Y})\n",
    "    print(\"Training cost=\", training_cost, \"W=\", sess.run(W), \"b=\", sess.run(b), '\\n')\n",
    "\n",
    "    plt.plot(train_X, train_Y, 'ro', label='Original data')\n",
    "    plt.plot(train_X, sess.run(W) * train_X + sess.run(b), label='Fitted line')\n",
    "    plt.legend()\n",
    "    plt.show()"
   ]
  },
  {
   "cell_type": "code",
   "execution_count": null,
   "metadata": {
    "collapsed": true
   },
   "outputs": [],
   "source": []
  }
 ],
 "metadata": {
  "kernelspec": {
   "display_name": "Python 3",
   "language": "python",
   "name": "python3"
  },
  "language_info": {
   "codemirror_mode": {
    "name": "ipython",
    "version": 3
   },
   "file_extension": ".py",
   "mimetype": "text/x-python",
   "name": "python",
   "nbconvert_exporter": "python",
   "pygments_lexer": "ipython3",
   "version": "3.6.1"
  }
 },
 "nbformat": 4,
 "nbformat_minor": 2
}
